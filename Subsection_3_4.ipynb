{
 "cells": [
  {
   "cell_type": "code",
   "execution_count": 1,
   "id": "7aa63c7f-5f88-470c-a1ff-ec8da904d3bd",
   "metadata": {},
   "outputs": [],
   "source": [
    "from langchain_experimental.tools.python.tool import PythonAstREPLTool\n",
    "from langchain_core.utils.function_calling import convert_to_openai_tool\n",
    "\n",
    "tool = PythonAstREPLTool()\n",
    "function = convert_to_openai_tool(tool)"
   ]
  },
  {
   "cell_type": "code",
   "execution_count": 2,
   "id": "687df10b-0092-4965-98c2-e7d56c16d44f",
   "metadata": {},
   "outputs": [],
   "source": [
    "user_prompt = (\n",
    "    \"Let's play once a modification of rock, paper, scissors. \"\n",
    "    \"More precisely, if I play rock and you play scissors, then I gain 1 dollar and you lose 1 dollar, \"\n",
    "    \"if I play scissors and you play paper, then I gain 1 dollar and you lose 1 dollar, \"\n",
    "    \"however, if I play paper and you play rock then I gain 2 dollars and you lose 2 dollars. \"\n",
    "    \"The same holds by changing our roles. \"\n",
    "    \"I have made my choice. Now, you should make your choice. What do you play? Choose your choice first in valid Python code.\"\n",
    ")"
   ]
  },
  {
   "cell_type": "code",
   "execution_count": 3,
   "id": "eac9c5ed-6b24-49f0-8ad0-7c2a71e6d4b9",
   "metadata": {},
   "outputs": [],
   "source": [
    "final_prompt = \"<s>[AVAILABLE_TOOLS] [\" + str(function) + \"] [/AVAILABLE_TOOLS][INST] \" + \\\n",
    "                user_prompt + \" [/INST]\" + \"[TOOL_CALLS] [{\\'name\\': \\'python_repl_ast\\', \\'arguments\\': {\\'query\\': \""
   ]
  },
  {
   "cell_type": "code",
   "execution_count": 4,
   "id": "f484f5e3-9091-4783-be70-bce64c27309e",
   "metadata": {},
   "outputs": [],
   "source": [
    "options = {\"prompt\": final_prompt, \"max_tokens\": None, \"temperature\": 0, \"seed\": 42,}"
   ]
  },
  {
   "cell_type": "code",
   "execution_count": 5,
   "id": "e199db0d-55db-47ea-962d-7ce3a3fa810a",
   "metadata": {},
   "outputs": [],
   "source": [
    "import requests\n",
    "import json\n",
    "\n",
    "response = requests.post(f\"http://localhost:8000/v1/completions\", json=options).json()"
   ]
  },
  {
   "cell_type": "code",
   "execution_count": 6,
   "id": "4e8ce7db-6564-4873-abc1-f50df5959bfd",
   "metadata": {},
   "outputs": [],
   "source": [
    "text = \"\"\"{'name': 'python_repl_ast', 'arguments': {'query':\"\"\" + f\"\"\"{str(response['choices'][0]['text'][:-1])}\"\"\""
   ]
  },
  {
   "cell_type": "code",
   "execution_count": 7,
   "id": "f2fff63f-54ab-42f4-ac05-3e7cf1a64e4f",
   "metadata": {},
   "outputs": [
    {
     "name": "stdout",
     "output_type": "stream",
     "text": [
      "import random\n",
      "choice = ['rock', 'paper', 'scissors']\n",
      "user_choice = input('Enter your choice (rock, paper or scissors): ')\n",
      "computer_choice = choice[random.randint(0, 2)]\n",
      "if user_choice == computer_choice:\n",
      " print('It is a tie!')\n",
      "elif (user_choice == 'rock' and computer_choice == 'scissors') or (user_choice == 'scissors' and computer_choice == 'paper') or (user_choice == 'paper' and computer_choice == 'rock'):\n",
      " print('You lose 1 dollar. The computer plays', computer_choice)\n",
      "else:\n",
      " print('You win 1 dollar. The computer plays', computer_choice)\n"
     ]
    }
   ],
   "source": [
    "import json_repair\n",
    "\n",
    "print(json_repair.loads(text)['arguments']['query'])"
   ]
  }
 ],
 "metadata": {
  "kernelspec": {
   "display_name": "Python 3 (ipykernel)",
   "language": "python",
   "name": "python3"
  },
  "language_info": {
   "codemirror_mode": {
    "name": "ipython",
    "version": 3
   },
   "file_extension": ".py",
   "mimetype": "text/x-python",
   "name": "python",
   "nbconvert_exporter": "python",
   "pygments_lexer": "ipython3",
   "version": "3.11.6"
  }
 },
 "nbformat": 4,
 "nbformat_minor": 5
}
