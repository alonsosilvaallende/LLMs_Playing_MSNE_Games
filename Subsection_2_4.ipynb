{
 "cells": [
  {
   "cell_type": "code",
   "execution_count": 1,
   "id": "7aa63c7f-5f88-470c-a1ff-ec8da904d3bd",
   "metadata": {},
   "outputs": [],
   "source": [
    "from langchain_experimental.tools.python.tool import PythonAstREPLTool\n",
    "from langchain_core.utils.function_calling import convert_to_openai_tool\n",
    "\n",
    "tool = PythonAstREPLTool()\n",
    "function = convert_to_openai_tool(tool)"
   ]
  },
  {
   "cell_type": "code",
   "execution_count": 2,
   "id": "687df10b-0092-4965-98c2-e7d56c16d44f",
   "metadata": {},
   "outputs": [],
   "source": [
    "user_prompt = (\n",
    "    \"Let's play once a modification of the Matching Pennies game. \"\n",
    "    \"More precisely, each of us has two possible actions: to play Heads or Tails. \"\n",
    "    \"We both reveal our choices simultaneously. \"\n",
    "    \"If both of us play Heads, then I gain 7 points and you lose 1 point, \"\n",
    "    \"if both of us play Tails, then I gain 1 point and you lose 1 point. \"\n",
    "    \"If our choices do not match (one Heads and one Tails), you gain 1 point and I lose 1 point. \"\n",
    "    \"I have made my choice. Now, you should make your choice. \"\n",
    "    \"What do you play? Choose your choice first in valid Python code.\"\n",
    ")"
   ]
  },
  {
   "cell_type": "code",
   "execution_count": 3,
   "id": "eac9c5ed-6b24-49f0-8ad0-7c2a71e6d4b9",
   "metadata": {},
   "outputs": [],
   "source": [
    "final_prompt = \"<s>[AVAILABLE_TOOLS] [\" + str(function) + \"] [/AVAILABLE_TOOLS][INST] \" + \\\n",
    "                user_prompt + \" [/INST]\" + \"[TOOL_CALLS] [{\\'name\\': \\'python_repl_ast\\', \\'arguments\\': {\\'query\\': \""
   ]
  },
  {
   "cell_type": "code",
   "execution_count": 4,
   "id": "f484f5e3-9091-4783-be70-bce64c27309e",
   "metadata": {},
   "outputs": [],
   "source": [
    "options = {\"prompt\": final_prompt, \"max_tokens\": None, \"temperature\": 0, \"seed\": 42,}"
   ]
  },
  {
   "cell_type": "code",
   "execution_count": 5,
   "id": "e199db0d-55db-47ea-962d-7ce3a3fa810a",
   "metadata": {},
   "outputs": [],
   "source": [
    "import requests\n",
    "import json\n",
    "\n",
    "response = requests.post(f\"http://localhost:8000/v1/completions\", json=options).json()"
   ]
  },
  {
   "cell_type": "code",
   "execution_count": 6,
   "id": "4e8ce7db-6564-4873-abc1-f50df5959bfd",
   "metadata": {},
   "outputs": [],
   "source": [
    "text = \"\"\"{'name': 'python_repl_ast', 'arguments': {'query':\"\"\" + f\"\"\"{str(response['choices'][0]['text'][:-1])}\"\"\""
   ]
  },
  {
   "cell_type": "code",
   "execution_count": 7,
   "id": "72d6d9a8-f672-4064-9858-deb06376a0c0",
   "metadata": {},
   "outputs": [
    {
     "name": "stdout",
     "output_type": "stream",
     "text": [
      "import random\n",
      "choice = 'Heads' if random.randint(0, 1) == 0 else 'Tails'\n",
      "print('I play: ', choice)\n"
     ]
    }
   ],
   "source": [
    "import json_repair\n",
    "\n",
    "print(json_repair.loads(text)[0]['arguments']['query'])"
   ]
  }
 ],
 "metadata": {
  "kernelspec": {
   "display_name": "Python 3 (ipykernel)",
   "language": "python",
   "name": "python3"
  },
  "language_info": {
   "codemirror_mode": {
    "name": "ipython",
    "version": 3
   },
   "file_extension": ".py",
   "mimetype": "text/x-python",
   "name": "python",
   "nbconvert_exporter": "python",
   "pygments_lexer": "ipython3",
   "version": "3.11.6"
  }
 },
 "nbformat": 4,
 "nbformat_minor": 5
}
