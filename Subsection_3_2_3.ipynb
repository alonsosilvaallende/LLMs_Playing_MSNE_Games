{
 "cells": [
  {
   "cell_type": "code",
   "execution_count": 1,
   "id": "8282962c-cf40-424a-8110-14b5aab959f8",
   "metadata": {
    "execution": {
     "iopub.execute_input": "2024-07-31T14:00:59.424766Z",
     "iopub.status.busy": "2024-07-31T14:00:59.423986Z",
     "iopub.status.idle": "2024-07-31T14:00:59.436802Z",
     "shell.execute_reply": "2024-07-31T14:00:59.435811Z",
     "shell.execute_reply.started": "2024-07-31T14:00:59.424717Z"
    }
   },
   "outputs": [],
   "source": [
    "user_prompt = (\n",
    "    \"Respond to the following text with one of the following answers: `rock`, `paper`, `scissors`. \"\n",
    "    \"Provide your response in JSON format containing a single key `answer`. \"\n",
    "    \"**Text**: ```Let's play rock, paper, scissors. I have made my choice. Now, you should make your choice. \"\n",
    "    \"Play according to the mixed strategy Nash equilibrium. What do you play?```\"\n",
    ")"
   ]
  },
  {
   "cell_type": "code",
   "execution_count": 2,
   "id": "21f95840-e824-44a4-8d5b-5c913be1fd47",
   "metadata": {
    "execution": {
     "iopub.execute_input": "2024-07-31T14:00:59.438851Z",
     "iopub.status.busy": "2024-07-31T14:00:59.438122Z",
     "iopub.status.idle": "2024-07-31T14:00:59.480338Z",
     "shell.execute_reply": "2024-07-31T14:00:59.479285Z",
     "shell.execute_reply.started": "2024-07-31T14:00:59.438797Z"
    }
   },
   "outputs": [],
   "source": [
    "import regex\n",
    "\n",
    "def extract_first_of_nested_brackets(input_string):\n",
    "    # Pattern to match the first complete set of brackets including nested ones\n",
    "    pattern = r'\\{(?:[^\\{\\}]*|(?R))*\\}'\n",
    "    match = regex.search(pattern, input_string)\n",
    "    if match:\n",
    "        return match.group(0)  # Returns the matched text including brackets\n",
    "    return None"
   ]
  },
  {
   "cell_type": "code",
   "execution_count": 3,
   "id": "a7dd44b3-d2ae-404d-8e07-b373bf38b8aa",
   "metadata": {
    "execution": {
     "iopub.execute_input": "2024-07-31T14:01:00.041009Z",
     "iopub.status.busy": "2024-07-31T14:01:00.040066Z",
     "iopub.status.idle": "2024-07-31T14:13:01.317676Z",
     "shell.execute_reply": "2024-07-31T14:13:01.316432Z",
     "shell.execute_reply.started": "2024-07-31T14:01:00.040958Z"
    }
   },
   "outputs": [],
   "source": [
    "import json\n",
    "import json_repair\n",
    "from json_repair import repair_json\n",
    "import requests\n",
    "\n",
    "answers = []\n",
    "for seed in range(1000):\n",
    "    options = {\n",
    "        'messages': [{\"role\": \"user\", \"content\": user_prompt}],\n",
    "        'seed': seed,\n",
    "    }\n",
    "    response_raw = requests.post(f\"http://localhost:8000/v1/chat/completions\", json=options).json()\n",
    "    response = response_raw[\"choices\"][0][\"message\"][\"content\"]\n",
    "    repaired_response = repair_json(response)\n",
    "    first_of_nested_brackets = extract_first_of_nested_brackets(repaired_response)\n",
    "    answer = json_repair.loads(first_of_nested_brackets)[\"answer\"]\n",
    "    answers.append(answer)"
   ]
  },
  {
   "cell_type": "code",
   "execution_count": 4,
   "id": "cefef747-6f62-4922-a7c3-6eca60ef6d4e",
   "metadata": {
    "execution": {
     "iopub.execute_input": "2024-07-31T14:13:01.320371Z",
     "iopub.status.busy": "2024-07-31T14:13:01.319777Z",
     "iopub.status.idle": "2024-07-31T14:13:01.407900Z",
     "shell.execute_reply": "2024-07-31T14:13:01.407326Z",
     "shell.execute_reply.started": "2024-07-31T14:13:01.320321Z"
    }
   },
   "outputs": [
    {
     "data": {
      "text/plain": [
       "(67, 187, 746)"
      ]
     },
     "execution_count": 4,
     "metadata": {},
     "output_type": "execute_result"
    }
   ],
   "source": [
    "import numpy as np\n",
    "\n",
    "np.sum([answer == 'rock' for answer in answers]), np.sum([answer == 'paper' for answer in answers]), np.sum([answer == 'scissors' for answer in answers])"
   ]
  }
 ],
 "metadata": {
  "kernelspec": {
   "display_name": "Python 3 (ipykernel)",
   "language": "python",
   "name": "python3"
  },
  "language_info": {
   "codemirror_mode": {
    "name": "ipython",
    "version": 3
   },
   "file_extension": ".py",
   "mimetype": "text/x-python",
   "name": "python",
   "nbconvert_exporter": "python",
   "pygments_lexer": "ipython3",
   "version": "3.10.12"
  }
 },
 "nbformat": 4,
 "nbformat_minor": 5
}
