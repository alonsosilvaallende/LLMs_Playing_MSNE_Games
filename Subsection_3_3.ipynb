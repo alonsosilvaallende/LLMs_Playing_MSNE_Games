{
 "cells": [
  {
   "cell_type": "code",
   "execution_count": 1,
   "id": "92898aa3-03a7-4e5d-81b3-90337c2f69cc",
   "metadata": {},
   "outputs": [],
   "source": [
    "from langchain_experimental.tools.python.tool import PythonAstREPLTool\n",
    "from langchain_core.utils.function_calling import convert_to_openai_tool\n",
    "\n",
    "tool = PythonAstREPLTool()\n",
    "function = convert_to_openai_tool(tool)"
   ]
  },
  {
   "cell_type": "code",
   "execution_count": 2,
   "id": "2545a259-4da3-4d2e-8ade-f6d235af756e",
   "metadata": {},
   "outputs": [],
   "source": [
    "user_prompt = (\n",
    "    \"Let's play rock, paper, scissors. I have made my choice. Now, you should make your choice. \"\n",
    "    \"What do you play? Choose your choice first in valid Python code.\"\n",
    ")"
   ]
  },
  {
   "cell_type": "code",
   "execution_count": 3,
   "id": "fd0769da-96a1-49a2-909b-e72b4ac4fa4c",
   "metadata": {},
   "outputs": [],
   "source": [
    "final_prompt = \"<s>[AVAILABLE_TOOLS] [\" + str(function) + \"] [/AVAILABLE_TOOLS][INST] \" + \\\n",
    "                user_prompt + \" [/INST]\" + \"[TOOL_CALLS] [{\\'name\\': \\'python_repl_ast\\', \\'arguments\\': {\\'query\\': \""
   ]
  },
  {
   "cell_type": "code",
   "execution_count": 4,
   "id": "780af0e3-1bee-4601-a9f0-796553272a6b",
   "metadata": {},
   "outputs": [],
   "source": [
    "options = {\"prompt\": final_prompt, \"max_tokens\": None, \"temperature\": 0, \"seed\": 42,}"
   ]
  },
  {
   "cell_type": "code",
   "execution_count": 5,
   "id": "1f1f816e-3dae-410d-996e-02a92797ef8b",
   "metadata": {},
   "outputs": [],
   "source": [
    "import json\n",
    "import requests\n",
    "\n",
    "response = requests.post(f\"http://localhost:8000/v1/completions\", json=options).json()"
   ]
  },
  {
   "cell_type": "code",
   "execution_count": 6,
   "id": "6797a365-a2d6-43bb-9b86-236368dac09f",
   "metadata": {},
   "outputs": [],
   "source": [
    "text = \"\"\"{'name': 'python_repl_ast', 'arguments': {'query':\"\"\" + f\"\"\"{str(response['choices'][0]['text'][:-1])}\"\"\""
   ]
  },
  {
   "cell_type": "code",
   "execution_count": 7,
   "id": "bf539b37-5e8d-4fe9-a65c-74e2e5031804",
   "metadata": {},
   "outputs": [
    {
     "name": "stdout",
     "output_type": "stream",
     "text": [
      "import random\n",
      "choice = [\"rock\", \"paper\", \"scissors\"]\n",
      "computer_choice = random.choice(choice)\n",
      "user_input = input(\"Enter your choice (rock, paper or scissors): \")\n",
      "if user_input == computer_choice:\n",
      " print(\"It's a tie!\")\n",
      "elif (user_input == \"rock\" and computer_choice == \"scissors\") or (user_input == \"paper\" and computer_choice == \"rock\") or (user_input == \"scissors\" and computer_choice == \"paper\"):\n",
      " print(\"You win!\")\n",
      "else:\n",
      " print(\"Computer wins!\")\n"
     ]
    }
   ],
   "source": [
    "import json_repair\n",
    "\n",
    "print(json_repair.loads(text)['arguments']['query'])"
   ]
  }
 ],
 "metadata": {
  "kernelspec": {
   "display_name": "Python 3 (ipykernel)",
   "language": "python",
   "name": "python3"
  },
  "language_info": {
   "codemirror_mode": {
    "name": "ipython",
    "version": 3
   },
   "file_extension": ".py",
   "mimetype": "text/x-python",
   "name": "python",
   "nbconvert_exporter": "python",
   "pygments_lexer": "ipython3",
   "version": "3.11.6"
  }
 },
 "nbformat": 4,
 "nbformat_minor": 5
}
