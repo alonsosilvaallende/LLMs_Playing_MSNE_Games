{
 "cells": [
  {
   "cell_type": "code",
   "execution_count": 1,
   "id": "75471ccf-5930-4dc6-a4d4-aeb6d6d09c1e",
   "metadata": {},
   "outputs": [],
   "source": [
    "user_prompt = \"What's the Mixed Strategy Nash equilibrium for the matching pennies game?\""
   ]
  },
  {
   "cell_type": "code",
   "execution_count": 2,
   "id": "afbbf500-5993-4be6-9766-aa4e6787b7f4",
   "metadata": {},
   "outputs": [],
   "source": [
    "options = {'messages': [{\"role\": \"user\", \"content\": user_prompt}], 'temperature': 0, 'seed': 0}"
   ]
  },
  {
   "cell_type": "code",
   "execution_count": 3,
   "id": "89dcfc05-4be2-4034-9b05-3609559d7665",
   "metadata": {},
   "outputs": [],
   "source": [
    "import json\n",
    "import requests\n",
    "\n",
    "response = requests.post(f\"http://localhost:8000/v1/chat/completions\", json=options).json()"
   ]
  },
  {
   "cell_type": "code",
   "execution_count": 4,
   "id": "6881e848-2920-466a-b68c-09bbe340e87a",
   "metadata": {},
   "outputs": [
    {
     "name": "stdout",
     "output_type": "stream",
     "text": [
      " The Matching Pennies game is a two-player, zero-sum game where each player secretly chooses either heads (H) or tails (T). If both players choose the same option, the player who chose first wins the coin, and if they choose differently, the second player wins.\n",
      "\n",
      "In a Nash equilibrium, neither player has an incentive to deviate from their strategy if they believe the other player will stick to theirs. However, in the Matching Pennies game, there is no pure strategy Nash equilibrium because both players would have an incentive to deviate from their strategies if they knew what the other player was going to do.\n",
      "\n",
      "Instead, the Matching Pennies game has a mixed strategy Nash equilibrium. In this case, each player should randomly choose heads or tails with equal probability (0.5). This way, neither player can gain an advantage by deviating from their random choice, as they have no information about the other player's decision.\n",
      "\n",
      "So, the mixed strategy Nash equilibrium for the Matching Pennies game is each player choosing H and T with a 50% probability.\n"
     ]
    }
   ],
   "source": [
    "print(response[\"choices\"][0][\"message\"][\"content\"])"
   ]
  }
 ],
 "metadata": {
  "kernelspec": {
   "display_name": "Python 3 (ipykernel)",
   "language": "python",
   "name": "python3"
  },
  "language_info": {
   "codemirror_mode": {
    "name": "ipython",
    "version": 3
   },
   "file_extension": ".py",
   "mimetype": "text/x-python",
   "name": "python",
   "nbconvert_exporter": "python",
   "pygments_lexer": "ipython3",
   "version": "3.11.6"
  }
 },
 "nbformat": 4,
 "nbformat_minor": 5
}
