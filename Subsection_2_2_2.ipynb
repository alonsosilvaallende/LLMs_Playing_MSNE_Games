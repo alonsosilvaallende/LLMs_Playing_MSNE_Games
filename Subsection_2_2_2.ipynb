{
 "cells": [
  {
   "cell_type": "code",
   "execution_count": 1,
   "id": "738f409d-869e-4985-a638-cf71b7dd20aa",
   "metadata": {},
   "outputs": [],
   "source": [
    "user_prompt = (\n",
    "    \"Respond to the following text with one of the following answers: `rock`, `paper`, `scissors`. \"\n",
    "    \"Provide your response in JSON format containing a single key `answer`. \"\n",
    "    \"**Text**: ```Let's play rock, paper, scissors. I have made my choice. Now, you should make your choice. What do you play?```\"\n",
    ")"
   ]
  },
  {
   "cell_type": "code",
   "execution_count": 2,
   "id": "c09fde1e-ce6d-46ae-b3b0-2cc5010f15f7",
   "metadata": {},
   "outputs": [],
   "source": [
    "import regex\n",
    "\n",
    "def extract_first_of_nested_brackets(input_string):\n",
    "    # Pattern to match the first complete set of brackets including nested ones\n",
    "    pattern = r'\\{(?:[^\\{\\}]*|(?R))*\\}'\n",
    "    match = regex.search(pattern, input_string)\n",
    "    if match:\n",
    "        return match.group(0)  # Returns the matched text including brackets\n",
    "    return None"
   ]
  },
  {
   "cell_type": "code",
   "execution_count": 3,
   "id": "610cde51-ca1a-40bb-836e-3deb8dd273df",
   "metadata": {},
   "outputs": [],
   "source": [
    "import json\n",
    "import json_repair\n",
    "from json_repair import repair_json\n",
    "import requests\n",
    "\n",
    "answers = []\n",
    "for seed in range(1000):\n",
    "    options = {\n",
    "        'messages': [{\"role\": \"user\", \"content\": user_prompt}],\n",
    "        'seed': seed,\n",
    "    }\n",
    "    response_raw = requests.post(f\"http://localhost:8000/v1/chat/completions\", json=options).json()\n",
    "    response = response_raw[\"choices\"][0][\"message\"][\"content\"]\n",
    "    repaired_response = repair_json(response)\n",
    "    first_of_nested_brackets = extract_first_of_nested_brackets(repaired_response)\n",
    "    answer = json_repair.loads(first_of_nested_brackets)[\"answer\"]\n",
    "    answers.append(answer)"
   ]
  },
  {
   "cell_type": "code",
   "execution_count": 4,
   "id": "b27e460a-5fea-4a38-be7e-ca6a2d50abfa",
   "metadata": {},
   "outputs": [
    {
     "data": {
      "text/plain": [
       "(516, 0, 484)"
      ]
     },
     "execution_count": 4,
     "metadata": {},
     "output_type": "execute_result"
    }
   ],
   "source": [
    "import numpy as np\n",
    "\n",
    "np.sum([answer == 'rock' for answer in answers]), np.sum([answer == 'paper' for answer in answers]), np.sum([answer == 'scissors' for answer in answers])"
   ]
  }
 ],
 "metadata": {
  "kernelspec": {
   "display_name": "Python 3 (ipykernel)",
   "language": "python",
   "name": "python3"
  },
  "language_info": {
   "codemirror_mode": {
    "name": "ipython",
    "version": 3
   },
   "file_extension": ".py",
   "mimetype": "text/x-python",
   "name": "python",
   "nbconvert_exporter": "python",
   "pygments_lexer": "ipython3",
   "version": "3.11.6"
  }
 },
 "nbformat": 4,
 "nbformat_minor": 5
}
