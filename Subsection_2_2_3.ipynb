{
 "cells": [
  {
   "cell_type": "code",
   "execution_count": 1,
   "id": "ff8506f4-9e75-41aa-85b0-9ebe16976e19",
   "metadata": {
    "execution": {
     "iopub.execute_input": "2024-07-31T14:48:23.938807Z",
     "iopub.status.busy": "2024-07-31T14:48:23.938305Z",
     "iopub.status.idle": "2024-07-31T14:48:23.951796Z",
     "shell.execute_reply": "2024-07-31T14:48:23.950583Z",
     "shell.execute_reply.started": "2024-07-31T14:48:23.938757Z"
    }
   },
   "outputs": [],
   "source": [
    "user_prompt = (\n",
    "    \"Respond to the following text with one of the following answers: `heads`, `tails`. \"\n",
    "    \"Provide your response in JSON format containing a single key `answer`. \"\n",
    "    \"**Text**: ```Let's play matching pennies. I have made my choice. Now, you should make your choice. \"\n",
    "    \"Play according to the mixed strategy Nash equilibrium. What do you play?\\n```\"\n",
    ")"
   ]
  },
  {
   "cell_type": "code",
   "execution_count": 2,
   "id": "c214c79b-e28a-46cd-ad1a-3b84c80cb4f5",
   "metadata": {
    "execution": {
     "iopub.execute_input": "2024-07-31T14:48:23.953573Z",
     "iopub.status.busy": "2024-07-31T14:48:23.953183Z",
     "iopub.status.idle": "2024-07-31T14:56:38.848744Z",
     "shell.execute_reply": "2024-07-31T14:56:38.847446Z",
     "shell.execute_reply.started": "2024-07-31T14:48:23.953536Z"
    }
   },
   "outputs": [],
   "source": [
    "import json\n",
    "import json_repair\n",
    "import requests\n",
    "\n",
    "answers = []\n",
    "for seed in range(1000):\n",
    "    options = {\n",
    "        'messages': [{\"role\": \"user\", \"content\": user_prompt}],\n",
    "        'seed': seed,\n",
    "    }\n",
    "    response = requests.post(f\"http://localhost:8000/v1/chat/completions\", json=options).json()\n",
    "    answer = json_repair.loads(response[\"choices\"][0][\"message\"][\"content\"])[\"answer\"]\n",
    "    answers.append(answer)"
   ]
  },
  {
   "cell_type": "code",
   "execution_count": 3,
   "id": "9fc33fe4-982e-4a51-aa58-785477586e87",
   "metadata": {
    "execution": {
     "iopub.execute_input": "2024-07-31T14:56:38.852044Z",
     "iopub.status.busy": "2024-07-31T14:56:38.851877Z",
     "iopub.status.idle": "2024-07-31T14:56:38.924909Z",
     "shell.execute_reply": "2024-07-31T14:56:38.924356Z",
     "shell.execute_reply.started": "2024-07-31T14:56:38.852026Z"
    }
   },
   "outputs": [
    {
     "data": {
      "text/plain": [
       "(816, 184)"
      ]
     },
     "execution_count": 3,
     "metadata": {},
     "output_type": "execute_result"
    }
   ],
   "source": [
    "import numpy as np\n",
    "\n",
    "np.sum([answer == 'heads' for answer in answers]), np.sum([answer == 'tails' for answer in answers])"
   ]
  }
 ],
 "metadata": {
  "kernelspec": {
   "display_name": "Python 3 (ipykernel)",
   "language": "python",
   "name": "python3"
  },
  "language_info": {
   "codemirror_mode": {
    "name": "ipython",
    "version": 3
   },
   "file_extension": ".py",
   "mimetype": "text/x-python",
   "name": "python",
   "nbconvert_exporter": "python",
   "pygments_lexer": "ipython3",
   "version": "3.10.12"
  }
 },
 "nbformat": 4,
 "nbformat_minor": 5
}
