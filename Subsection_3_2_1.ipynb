{
 "cells": [
  {
   "cell_type": "code",
   "execution_count": 1,
   "id": "75471ccf-5930-4dc6-a4d4-aeb6d6d09c1e",
   "metadata": {},
   "outputs": [],
   "source": [
    "user_prompt = \"What's the Mixed Strategy Nash equilibrium for the rock, paper, scissors game?\""
   ]
  },
  {
   "cell_type": "code",
   "execution_count": 2,
   "id": "afbbf500-5993-4be6-9766-aa4e6787b7f4",
   "metadata": {},
   "outputs": [],
   "source": [
    "options = {'messages': [{\"role\": \"user\", \"content\": user_prompt}], 'temperature': 0, 'seed': 0}"
   ]
  },
  {
   "cell_type": "code",
   "execution_count": 3,
   "id": "89dcfc05-4be2-4034-9b05-3609559d7665",
   "metadata": {},
   "outputs": [],
   "source": [
    "import json\n",
    "import requests\n",
    "\n",
    "response = requests.post(f\"http://localhost:8000/v1/chat/completions\", json=options).json()"
   ]
  },
  {
   "cell_type": "code",
   "execution_count": 4,
   "id": "6881e848-2920-466a-b68c-09bbe340e87a",
   "metadata": {},
   "outputs": [
    {
     "name": "stdout",
     "output_type": "stream",
     "text": [
      " In a one-shot Rock, Paper, Scissors (RPS) game between two players, there is no pure strategy Nash equilibrium because if both players choose the same strategy, they can be beaten by a deviation to another strategy. However, in repeated games with perfect information and no bounds on the number of repetitions, a mixed strategy Nash equilibrium can exist.\n",
      "\n",
      "In this case, each player randomly chooses their move (rock, paper, scissors) with probabilities that make it unprofitable for either player to deviate from their chosen strategy. One possible set of such probabilities is:\n",
      "\n",
      "- Player 1 plays rock with a probability of 1/3, paper with a probability of 1/3, and scissors with a probability of 1/3.\n",
      "- Player 2 plays rock with a probability of 1/3, paper with a probability of 1/3, and scissors with a probability of 1/3.\n",
      "\n",
      "In this mixed strategy Nash equilibrium, neither player has an incentive to deviate from their chosen strategy because the expected payoff for each move is the same against every possible move of the other player. This results in a draw on average, as each player wins approximately one-third of the games against the other player's strategies.\n"
     ]
    }
   ],
   "source": [
    "print(response[\"choices\"][0][\"message\"][\"content\"])"
   ]
  }
 ],
 "metadata": {
  "kernelspec": {
   "display_name": "Python 3 (ipykernel)",
   "language": "python",
   "name": "python3"
  },
  "language_info": {
   "codemirror_mode": {
    "name": "ipython",
    "version": 3
   },
   "file_extension": ".py",
   "mimetype": "text/x-python",
   "name": "python",
   "nbconvert_exporter": "python",
   "pygments_lexer": "ipython3",
   "version": "3.11.6"
  }
 },
 "nbformat": 4,
 "nbformat_minor": 5
}
