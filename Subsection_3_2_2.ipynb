{
 "cells": [
  {
   "cell_type": "code",
   "execution_count": 1,
   "id": "c9d2d3e5-5400-4866-8d16-ef4d8d2f8d48",
   "metadata": {},
   "outputs": [],
   "source": [
    "user_prompt = (\n",
    "    \"Respond to the following text with one of the following answers: `heads`, `tails`. \"\n",
    "    \"Provide your response in JSON format containing a single key `answer`. \"\n",
    "    \"**Text**: ```Let's play matching pennies. I have made my choice. Now, you should make your choice. What do you play?\\n```\"\n",
    ")"
   ]
  },
  {
   "cell_type": "code",
   "execution_count": 2,
   "id": "10b47692-836a-4612-9e28-f9f86263e806",
   "metadata": {
    "scrolled": true
   },
   "outputs": [],
   "source": [
    "import json\n",
    "import json_repair\n",
    "import requests\n",
    "\n",
    "answers = []\n",
    "for seed in range(1000):\n",
    "    options = {\n",
    "        'messages': [{\"role\": \"user\", \"content\": user_prompt}],\n",
    "        'seed': seed,\n",
    "    }\n",
    "    response = requests.post(f\"http://localhost:8000/v1/chat/completions\", json=options).json()\n",
    "    answer = json_repair.loads(response[\"choices\"][0][\"message\"][\"content\"])[\"answer\"]\n",
    "    answers.append(answer)"
   ]
  },
  {
   "cell_type": "code",
   "execution_count": 3,
   "id": "37e05ff4-13b3-49dc-b489-f8e2632bf7cb",
   "metadata": {},
   "outputs": [
    {
     "data": {
      "text/plain": [
       "(779, 221)"
      ]
     },
     "execution_count": 3,
     "metadata": {},
     "output_type": "execute_result"
    }
   ],
   "source": [
    "import numpy as np\n",
    "\n",
    "np.sum([answer == 'heads' for answer in answers]), np.sum([answer == 'tails' for answer in answers])"
   ]
  }
 ],
 "metadata": {
  "kernelspec": {
   "display_name": "Python 3 (ipykernel)",
   "language": "python",
   "name": "python3"
  },
  "language_info": {
   "codemirror_mode": {
    "name": "ipython",
    "version": 3
   },
   "file_extension": ".py",
   "mimetype": "text/x-python",
   "name": "python",
   "nbconvert_exporter": "python",
   "pygments_lexer": "ipython3",
   "version": "3.11.6"
  }
 },
 "nbformat": 4,
 "nbformat_minor": 5
}
